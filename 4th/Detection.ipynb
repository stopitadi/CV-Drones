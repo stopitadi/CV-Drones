{
 "cells": [
  {
   "cell_type": "code",
   "execution_count": 1,
   "metadata": {},
   "outputs": [],
   "source": [
    "import numpy as np\n",
    "import cv2"
   ]
  },
  {
   "cell_type": "code",
   "execution_count": 3,
   "metadata": {},
   "outputs": [],
   "source": [
    "def aruco_display(corners,ids,rejected,image):\n",
    "\tif(len(corners)>0):\n",
    "\t\tids=ids.flatten()\n",
    "\t\tfor(markerCorner,markerID) in zip(corners,ids):\n",
    "\t\t\tcorners=markerCorner.reshape((4,2))\n",
    "\t\t\t(topLeft,topRight,bottomRight,bottomLeft)=corners\n",
    "\t\t\ttopRight=(int(topRight[0]),int(topRight[1]))\n",
    "\t\t\ttopLeft=(int(topLeft[0]),int(topLeft[1]))\n",
    "\t\t\tbottomRight=(int(bottomRight[0]),int(bottomRight[1]))\n",
    "\t\t\tbottomLeft=(int(bottomLeft[0]),int(bottomLeft[1]))\n",
    "\t\t\tcv2.line(image,topLeft,topRight,(0,255,0),2)\n",
    "\t\t\tcv2.line(image,topRight,bottomRight,(0,255,0),2)\n",
    "\t\t\tcv2.line(image,bottomRight,bottomLeft,(0,255,0),2)\n",
    "\t\t\tcv2.line(image,bottomLeft,topLeft,(0,255,0),2)\n",
    "\t\t\tcX=int((topLeft[0]+bottomRight[0]+topRight[0]+bottomLeft[0])/4)\n",
    "\t\t\tcY=int((topLeft[1]+bottomLeft[1]+bottomRight[1]+topRight[1])/4)\n",
    "\t\t\tcv2.circle(image,(cX,cY),4,(0,0,255),-1)\n",
    "\t\t\tprint(str(image.shape[0])+'x'+str(image.shape[1]))\n",
    "\t\t\tprint(\"[Inference] Aruco marker ID: {}\".format(markerID))\n",
    "\n",
    "\treturn image\n"
   ]
  },
  {
   "cell_type": "code",
   "execution_count": 4,
   "metadata": {},
   "outputs": [
    {
     "ename": "AttributeError",
     "evalue": "module 'cv2.aruco' has no attribute 'Dictionary_get'",
     "output_type": "error",
     "traceback": [
      "\u001b[0;31m---------------------------------------------------------------------------\u001b[0m",
      "\u001b[0;31mAttributeError\u001b[0m                            Traceback (most recent call last)",
      "Cell \u001b[0;32mIn[4], line 1\u001b[0m\n\u001b[0;32m----> 1\u001b[0m arucoDict\u001b[38;5;241m=\u001b[39m\u001b[43mcv2\u001b[49m\u001b[38;5;241;43m.\u001b[39;49m\u001b[43maruco\u001b[49m\u001b[38;5;241;43m.\u001b[39;49m\u001b[43mDictionary_get\u001b[49m(cv2\u001b[38;5;241m.\u001b[39maruco\u001b[38;5;241m.\u001b[39mDICT_4X4_50)\n\u001b[1;32m      2\u001b[0m arucoParams\u001b[38;5;241m=\u001b[39mcv2\u001b[38;5;241m.\u001b[39maruco\u001b[38;5;241m.\u001b[39mDetectorParameters_create()\n\u001b[1;32m      3\u001b[0m img\u001b[38;5;241m=\u001b[39mcv2\u001b[38;5;241m.\u001b[39mimread(\u001b[38;5;124mr\u001b[39m\u001b[38;5;124m\"\u001b[39m\u001b[38;5;124m/Users/akashpaijwar/Documents/Winter Project/CV101/4th/NhGcd.png\u001b[39m\u001b[38;5;124m\"\u001b[39m)\n",
      "\u001b[0;31mAttributeError\u001b[0m: module 'cv2.aruco' has no attribute 'Dictionary_get'"
     ]
    }
   ],
   "source": [
    "arucoDict=cv2.aruco.Dictionary_get(cv2.aruco.DICT_4X4_50)\n",
    "arucoParams=cv2.aruco.DetectorParameters_create()\n",
    "img=cv2.imread(r\"/Users/akashpaijwar/Documents/Winter Project/CV101/4th/NhGcd.png\")\n",
    "h,w,_=img.shape\n",
    "width=1000\n",
    "height=int(width*(h/w))\n",
    "img=cv2.resize(img,(width,height),interpolation=cv2.INTER_CUBIC)\n",
    "corners,ids,rejected=cv2.aruco.detectMarkers(img,arucoDict,parameters=arucoParams)\n",
    "print(ids)\n",
    "detected_markers=aruco_display(corners,ids,rejected,img)\n",
    "cv2.imshow(\"Image\",detected_markers)\n",
    "cv2.waitKey(0)\n",
    "cv2.destroyAllWindows()"
   ]
  },
  {
   "cell_type": "code",
   "execution_count": 29,
   "metadata": {},
   "outputs": [],
   "source": [
    "def pose_estimation(frame, aruco_dict_type, matrix_coefficients, distortion_coefficients):\n",
    "\n",
    "\tgray = cv2.cvtColor(frame, cv2.COLOR_BGR2GRAY)\n",
    "\tarucoDict=cv2.aruco.Dictionary_get(cv2.aruco.DICT_4X4_50)\n",
    "\tarucoParams=cv2.aruco.DetectorParameters_create()\n",
    "\tcorners, ids, rejected_img_points=cv2.aruco.detectMarkers(gray,arucoDict,parameters=arucoParams)\n",
    "    \n",
    "   \t \n",
    "\tif len(corners) > 0:\n",
    "\t\tfor i in range(0, len(ids)):\n",
    "\t\t\trvec, tvec, markerPoints = cv2.aruco.estimatePoseSingleMarkers(corners[i], 50, matrix_coefficients,distortion_coefficients)\n",
    "\t\t\tcv2.aruco.drawDetectedMarkers(frame, corners)\n",
    "\t\t\tcv2.drawFrameAxes(frame, matrix_coefficients, distortion_coefficients, rvec, tvec, 5)\n",
    "\t\t\tprint(tvec)\n",
    "\treturn frame\n"
   ]
  },
  {
   "cell_type": "code",
   "execution_count": 31,
   "metadata": {},
   "outputs": [],
   "source": [
    "cap=cv2.VideoCapture(0)\n",
    "    \n",
    "cap.set(cv2.CAP_PROP_FRAME_WIDTH,1280)\n",
    "cap.set(cv2.CAP_PROP_FRAME_HEIGHT,720)\n",
    "\n",
    "while cap.isOpened():\n",
    "\tret,img=cap.read()\n",
    "\th,w,_=img.shape\n",
    "\twidth=1000\n",
    "\theight=int(width*(h/w))\n",
    "\timg=cv2.resize(img,(width,height),interpolation=cv2.INTER_CUBIC)\n",
    "\tintrinsic_camera = np.array(((207.66132141,0,251.41218615),(0,205.751007,338.91119239),(0,0,1)))\n",
    "\tdistortion = np.array(( 0.07640411,-0.06229856,0.01462332,0.0039293,0.00467759))\n",
    "\n",
    "\tdetected_markers=pose_estimation(img,cv2.aruco.DICT_4X4_50,intrinsic_camera,distortion)\n",
    "\t# corners,ids,rejected=cv2.aruco.detectMarkers(img,arucoDict,parameters=arucoParams)\n",
    "\t# detected_markers=aruco_display(corners,ids,rejected,img)\n",
    "\tcv2.imshow(\"Image\",detected_markers)\n",
    "\n",
    "\tkey=cv2.waitKey(1)\n",
    "\n",
    "\tif key == 27:\n",
    "\t\tbreak\n",
    "cv2.destroyAllWindows()\n",
    "cap.release()\n"
   ]
  }
 ],
 "metadata": {
  "kernelspec": {
   "display_name": "Python 3",
   "language": "python",
   "name": "python3"
  },
  "language_info": {
   "codemirror_mode": {
    "name": "ipython",
    "version": 3
   },
   "file_extension": ".py",
   "mimetype": "text/x-python",
   "name": "python",
   "nbconvert_exporter": "python",
   "pygments_lexer": "ipython3",
   "version": "3.12.1"
  }
 },
 "nbformat": 4,
 "nbformat_minor": 2
}
